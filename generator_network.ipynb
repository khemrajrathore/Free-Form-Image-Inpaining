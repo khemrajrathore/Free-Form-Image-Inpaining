{
 "cells": [
  {
   "cell_type": "code",
   "execution_count": 4,
   "metadata": {},
   "outputs": [
    {
     "name": "stderr",
     "output_type": "stream",
     "text": [
      "c:\\users\\lenovo\\appdata\\local\\programs\\python\\python36\\lib\\site-packages\\h5py\\__init__.py:36: FutureWarning: Conversion of the second argument of issubdtype from `float` to `np.floating` is deprecated. In future, it will be treated as `np.float64 == np.dtype(float).type`.\n",
      "  from ._conv import register_converters as _register_converters\n"
     ]
    },
    {
     "name": "stdout",
     "output_type": "stream",
     "text": [
      "WARNING:tensorflow:From c:\\users\\lenovo\\appdata\\local\\programs\\python\\python36\\lib\\site-packages\\tensorflow\\contrib\\learn\\python\\learn\\datasets\\base.py:198: retry (from tensorflow.contrib.learn.python.learn.datasets.base) is deprecated and will be removed in a future version.\n",
      "Instructions for updating:\n",
      "Use the retry module or similar alternatives.\n"
     ]
    },
    {
     "name": "stderr",
     "output_type": "stream",
     "text": [
      "\u001b[32m[2018-10-15 23:11:33 @__init__.py:79]\u001b[0m Set root logger. Unset logger with neuralgym.unset_logger().\n",
      "\u001b[32m[2018-10-15 23:11:33 @__init__.py:80]\u001b[0m Saving logging to file: neuralgym_logs/20181015231133654053.\n"
     ]
    }
   ],
   "source": [
    "import logging\n",
    "import cv2\n",
    "import numpy as np\n",
    "import tensorflow as tf\n",
    "from tensorflow.contrib.framework.python.ops import add_arg_scope\n",
    "from neuralgym.ops.layers import resize\n",
    "from neuralgym.ops.layers import *\n",
    "from neuralgym.ops.loss_ops import *\n",
    "from neuralgym.ops.summary_ops import *"
   ]
  },
  {
   "cell_type": "code",
   "execution_count": 5,
   "metadata": {},
   "outputs": [],
   "source": [
    "logger = logging.getLogger()\n",
    "np.random.seed(2018)"
   ]
  },
  {
   "cell_type": "code",
   "execution_count": 6,
   "metadata": {},
   "outputs": [],
   "source": [
    "def gen_conv(x,cnum,ksize,stride=1,rate=1,name='conv',padding = 'SAME',activation = tf.nn.elu,training = True):\n",
    "    x = tf.layers.conv2d(x,cnum,ksize,stride,'SAME',name = name)\n",
    "    x1,x2 = tf.split(x,2)\n",
    "    x = tf.nn.sigmoid(x2)*tf.nn.leaky_relu(x1)\n",
    "    return x"
   ]
  },
  {
   "cell_type": "code",
   "execution_count": 7,
   "metadata": {},
   "outputs": [],
   "source": [
    "def gen_deconv(x,cnum,name = 'upsample',padding = 'SAME',training = True):\n",
    "    with tf.variable_scope(name):\n",
    "        x = resize(x,func = tf.image.resize_nearest_neighbor)\n",
    "        x = gen_conv(x,cnum,3,1,name = name+'_conv',padding = padding,training = training)\n",
    "    return x"
   ]
  },
  {
   "cell_type": "code",
   "execution_count": 8,
   "metadata": {},
   "outputs": [],
   "source": [
    "def contextual_attention(f, b, mask=None, ksize=3, stride=1, rate=1,\n",
    "                         fuse_k=3, softmax_scale=10., training=True, fuse=True):\n",
    "    raw_fs = tf.shape(f)\n",
    "    raw_int_fs = f.get_shape().as_list()\n",
    "    raw_int_bs = b.get_shape().as_list()\n",
    "    kernel = 2*rate\n",
    "    raw_w = tf.extract_image_patches(\n",
    "        b, [1,kernel,kernel,1], [1,rate*stride,rate*stride,1], [1,1,1,1], padding='SAME')\n",
    "    raw_w = tf.reshape(raw_w, [raw_int_bs[0], -1, kernel, kernel, raw_int_bs[3]])\n",
    "    raw_w = tf.transpose(raw_w, [0, 2, 3, 4, 1])\n",
    "    f = resize(f, scale=1./rate, func=tf.image.resize_nearest_neighbor)\n",
    "    b = resize(b, to_shape=[int(raw_int_bs[1]/rate), int(raw_int_bs[2]/rate)], func=tf.image.resize_nearest_neighbor)  # https://github.com/tensorflow/tensorflow/issues/11651\n",
    "    if mask is not None:\n",
    "        mask = resize(mask, scale=1./rate, func=tf.image.resize_nearest_neighbor)\n",
    "    fs = tf.shape(f)\n",
    "    int_fs = f.get_shape().as_list()\n",
    "    f_groups = tf.split(f, int_fs[0], axis=0)\n",
    "    bs = tf.shape(b)\n",
    "    int_bs = b.get_shape().as_list()\n",
    "    w = tf.extract_image_patches(\n",
    "        b, [1,ksize,ksize,1], [1,stride,stride,1], [1,1,1,1], padding='SAME')\n",
    "    w = tf.reshape(w, [int_fs[0], -1, ksize, ksize, int_fs[3]])\n",
    "    w = tf.transpose(w, [0, 2, 3, 4, 1])  # transpose to b*k*k*c*hw\n",
    "    if mask is None:\n",
    "        mask = tf.zeros([1, bs[1], bs[2], 1])\n",
    "    m = tf.extract_image_patches(\n",
    "        mask, [1,ksize,ksize,1], [1,stride,stride,1], [1,1,1,1], padding='SAME')\n",
    "    m = tf.reshape(m, [1, -1, ksize, ksize, 1])\n",
    "    m = tf.transpose(m, [0, 2, 3, 4, 1])\n",
    "    m = m[0]\n",
    "    mm = tf.cast(tf.equal(tf.reduce_mean(m, axis=[0,1,2], keep_dims=True), 0.), tf.float32)\n",
    "    w_groups = tf.split(w, int_bs[0], axis=0)\n",
    "    raw_w_groups = tf.split(raw_w, int_bs[0], axis=0)\n",
    "    y = []\n",
    "    offsets = []\n",
    "    k = fuse_k\n",
    "    scale = softmax_scale\n",
    "    fuse_weight = tf.reshape(tf.eye(k), [k, k, 1, 1])\n",
    "    for xi, wi, raw_wi in zip(f_groups, w_groups, raw_w_groups):\n",
    "        wi = wi[0]\n",
    "        wi_normed = wi / tf.maximum(tf.sqrt(tf.reduce_sum(tf.square(wi), axis=[0,1,2])), 1e-4)\n",
    "        yi = tf.nn.conv2d(xi, wi_normed, strides=[1,1,1,1], padding=\"SAME\")\n",
    "        if fuse:\n",
    "            yi = tf.reshape(yi, [1, fs[1]*fs[2], bs[1]*bs[2], 1])\n",
    "            yi = tf.nn.conv2d(yi, fuse_weight, strides=[1,1,1,1], padding='SAME')\n",
    "            yi = tf.reshape(yi, [1, fs[1], fs[2], bs[1], bs[2]])\n",
    "            yi = tf.transpose(yi, [0, 2, 1, 4, 3])\n",
    "            yi = tf.reshape(yi, [1, fs[1]*fs[2], bs[1]*bs[2], 1])\n",
    "            yi = tf.nn.conv2d(yi, fuse_weight, strides=[1,1,1,1], padding='SAME')\n",
    "            yi = tf.reshape(yi, [1, fs[2], fs[1], bs[2], bs[1]])\n",
    "            yi = tf.transpose(yi, [0, 2, 1, 4, 3])\n",
    "        yi = tf.reshape(yi, [1, fs[1], fs[2], bs[1]*bs[2]])\n",
    "        yi *=  mm \n",
    "        yi = tf.nn.softmax(yi*scale, 3)\n",
    "        yi *=  mm  \n",
    "\n",
    "        offset = tf.argmax(yi, axis=3, output_type=tf.int32)\n",
    "        offset = tf.stack([offset // fs[2], offset % fs[2]], axis=-1)\n",
    "        wi_center = raw_wi[0]\n",
    "        yi = tf.nn.conv2d_transpose(yi, wi_center, tf.concat([[1], raw_fs[1:]], axis=0), strides=[1,rate,rate,1]) / 4.\n",
    "        y.append(yi)\n",
    "        offsets.append(offset)\n",
    "    y = tf.concat(y, axis=0)\n",
    "    y.set_shape(raw_int_fs)\n",
    "    offsets = tf.concat(offsets, axis=0)\n",
    "    offsets.set_shape(int_bs[:3] + [2])\n",
    "    h_add = tf.tile(tf.reshape(tf.range(bs[1]), [1, bs[1], 1, 1]), [bs[0], 1, bs[2], 1])\n",
    "    w_add = tf.tile(tf.reshape(tf.range(bs[2]), [1, 1, bs[2], 1]), [bs[0], bs[1], 1, 1])\n",
    "    offsets = offsets - tf.concat([h_add, w_add], axis=3)\n",
    "    flow = flow_to_image_tf(offsets)\n",
    "    if rate != 1:\n",
    "        flow = resize(flow, scale=rate, func=tf.image.resize_nearest_neighbor)\n",
    "    return y, flow\n"
   ]
  },
  {
   "cell_type": "code",
   "execution_count": 9,
   "metadata": {},
   "outputs": [],
   "source": [
    "def build_inpaint_net(x, mask, config=None, reuse=False,training=True, padding='SAME', name='inpaint_net'):\n",
    "    xin = x\n",
    "    offset_flow = None\n",
    "    ones_x = tf.ones_like(x)[:,:,:.0:1]\n",
    "    x = tf.concat([x,ones_x,ones_x*mask],axis = 3)\n",
    "    cnum = 32\n",
    "    with tf.variable_scope(name, reuse = reuse),arg_scope([gen_conv,gen_deconv],training = training,padding = padding):\n",
    "        x = gen_conv(x, cnum, 5, 1, name='conv1')\n",
    "        x = gen_conv(x, 2*cnum, 3, 2, name='conv2_downsample')\n",
    "        x = gen_conv(x, 2*cnum, 3, 1, name='conv3')\n",
    "        x = gen_conv(x, 4*cnum, 3, 2, name='conv4_downsample')\n",
    "        x = gen_conv(x, 4*cnum, 3, 1, name='conv5')\n",
    "        x = gen_conv(x, 4*cnum, 3, 1, name='conv6')\n",
    "        mask_s = resize_mask_like(mask, x)\n",
    "        x = gen_conv(x, 4*cnum, 3, rate=2, name='conv7_atrous')\n",
    "        x = gen_conv(x, 4*cnum, 3, rate=4, name='conv8_atrous')\n",
    "        x = gen_conv(x, 4*cnum, 3, rate=8, name='conv9_atrous')\n",
    "        x = gen_conv(x, 4*cnum, 3, rate=16, name='conv10_atrous')\n",
    "        x = gen_conv(x, 4*cnum, 3, 1, name='conv11')\n",
    "        x = gen_conv(x, 4*cnum, 3, 1, name='conv12')\n",
    "        x = gen_deconv(x, 2*cnum, name='conv13_upsample')\n",
    "        x = gen_conv(x, 2*cnum, 3, 1, name='conv14')\n",
    "        x = gen_deconv(x, cnum, name='conv15_upsample')\n",
    "        x = gen_conv(x, cnum//2, 3, 1, name='conv16')\n",
    "        x = gen_conv(x, 3, 3, 1, activation=None, name='conv17')\n",
    "        x = tf.clip_by_value(x, -1., 1.)\n",
    "        x_stage1 = x\n",
    "            \n",
    "        x = x*mask + xin*(1.-mask)\n",
    "        x.set_shape(xin.get_shape().as_list())\n",
    "        xnow = tf.concat([x, ones_x, ones_x*mask], axis=3)\n",
    "        x = gen_conv(xnow, cnum, 5, 1, name='xconv1')\n",
    "        x = gen_conv(x, cnum, 3, 2, name='xconv2_downsample')\n",
    "        x = gen_conv(x, 2*cnum, 3, 1, name='xconv3')\n",
    "        x = gen_conv(x, 2*cnum, 3, 2, name='xconv4_downsample')\n",
    "        x = gen_conv(x, 4*cnum, 3, 1, name='xconv5')\n",
    "        x = gen_conv(x, 4*cnum, 3, 1, name='xconv6')\n",
    "        x = gen_conv(x, 4*cnum, 3, rate=2, name='xconv7_atrous')\n",
    "        x = gen_conv(x, 4*cnum, 3, rate=4, name='xconv8_atrous')\n",
    "        x = gen_conv(x, 4*cnum, 3, rate=8, name='xconv9_atrous')\n",
    "        x = gen_conv(x, 4*cnum, 3, rate=16, name='xconv10_atrous')\n",
    "        x_hallu = x\n",
    "        x = gen_conv(xnow, cnum, 5, 1, name='pmconv1')\n",
    "        x = gen_conv(x, cnum, 3, 2, name='pmconv2_downsample')\n",
    "        x = gen_conv(x, 2*cnum, 3, 1, name='pmconv3')\n",
    "        x = gen_conv(x, 4*cnum, 3, 2, name='pmconv4_downsample')\n",
    "        x = gen_conv(x, 4*cnum, 3, 1, name='pmconv5')\n",
    "        x = gen_conv(x, 4*cnum, 3, 1, name='pmconv6', activation=tf.nn.relu)\n",
    "        x, offset_flow = contextual_attention(x, x, mask_s, 3, 1, rate=2)\n",
    "        x = gen_conv(x, 4*cnum, 3, 1, name='pmconv9')\n",
    "        x = gen_conv(x, 4*cnum, 3, 1, name='pmconv10')\n",
    "        pm = x\n",
    "        x = tf.concat([x_hallu, pm], axis=3)\n",
    "        x = gen_conv(x, 4*cnum, 3, 1, name='allconv11')\n",
    "        x = gen_conv(x, 4*cnum, 3, 1, name='allconv12')\n",
    "        x = gen_deconv(x, 2*cnum, name='allconv13_upsample')\n",
    "        x = gen_conv(x, 2*cnum, 3, 1, name='allconv14')\n",
    "        x = gen_deconv(x, cnum, name='allconv15_upsample')\n",
    "        x = gen_conv(x, cnum//2, 3, 1, name='allconv16')\n",
    "        x = gen_conv(x, 3, 3, 1, activation=None, name='allconv17')\n",
    "        x_stage2 = tf.clip_by_value(x, -1., 1.)\n",
    "    return x_stage1, x_stage2, offset_flow"
   ]
  },
  {
   "cell_type": "code",
   "execution_count": 10,
   "metadata": {},
   "outputs": [],
   "source": []
  },
  {
   "cell_type": "code",
   "execution_count": null,
   "metadata": {},
   "outputs": [],
   "source": []
  }
 ],
 "metadata": {
  "kernelspec": {
   "display_name": "Python 3",
   "language": "python",
   "name": "python3"
  },
  "language_info": {
   "codemirror_mode": {
    "name": "ipython",
    "version": 3
   },
   "file_extension": ".py",
   "mimetype": "text/x-python",
   "name": "python",
   "nbconvert_exporter": "python",
   "pygments_lexer": "ipython3",
   "version": "3.6.4"
  }
 },
 "nbformat": 4,
 "nbformat_minor": 2
}
