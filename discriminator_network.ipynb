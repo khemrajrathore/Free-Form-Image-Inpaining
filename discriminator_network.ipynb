{
 "cells": [
  {
   "cell_type": "code",
   "execution_count": 1,
   "metadata": {},
   "outputs": [
    {
     "name": "stderr",
     "output_type": "stream",
     "text": [
      "c:\\users\\lenovo\\appdata\\local\\programs\\python\\python36\\lib\\site-packages\\h5py\\__init__.py:36: FutureWarning: Conversion of the second argument of issubdtype from `float` to `np.floating` is deprecated. In future, it will be treated as `np.float64 == np.dtype(float).type`.\n",
      "  from ._conv import register_converters as _register_converters\n"
     ]
    },
    {
     "name": "stdout",
     "output_type": "stream",
     "text": [
      "WARNING:tensorflow:From c:\\users\\lenovo\\appdata\\local\\programs\\python\\python36\\lib\\site-packages\\tensorflow\\contrib\\learn\\python\\learn\\datasets\\base.py:198: retry (from tensorflow.contrib.learn.python.learn.datasets.base) is deprecated and will be removed in a future version.\n",
      "Instructions for updating:\n",
      "Use the retry module or similar alternatives.\n"
     ]
    },
    {
     "name": "stderr",
     "output_type": "stream",
     "text": [
      "\u001b[32m[2018-10-18 15:20:35 @__init__.py:79]\u001b[0m Set root logger. Unset logger with neuralgym.unset_logger().\n",
      "\u001b[32m[2018-10-18 15:20:35 @__init__.py:80]\u001b[0m Saving logging to file: neuralgym_logs/20181018152035584454.\n"
     ]
    }
   ],
   "source": [
    "import logging\n",
    "import cv2\n",
    "import numpy as np\n",
    "import tensorflow as tf\n",
    "from tensorflow.contrib.framework.python.ops import add_arg_scope\n",
    "from neuralgym.ops.layers import resize\n",
    "from neuralgym.ops.layers import *\n",
    "from neuralgym.ops.loss_ops import *\n",
    "from neuralgym.ops.summary_ops import *\n",
    "\n",
    "logger = logging.getLogger()\n",
    "np.random.seed(2018)"
   ]
  },
  {
   "cell_type": "code",
   "execution_count": 2,
   "metadata": {},
   "outputs": [],
   "source": [
    "def dis_conv(x, cnum, ksize=5, stride=2, name='conv', training=True):\n",
    "    x_shape=x.get_shape().as_list()\n",
    "    w=tf.get_variable(name=name+'_w',shape=[ksize,ksize,x_shape[-1]]+[cnum])\n",
    "    w=spectral_norm(w,name=name)   \n",
    "    x = tf.nn.conv2d(x,w,strides=[1,stride,stride,1],padding='SAME')\n",
    "    bias=tf.get_variable(name=name+'_bias',shape=[cnum])\n",
    "    return  tf.nn.leaky_relu(x+bias)"
   ]
  },
  {
   "cell_type": "code",
   "execution_count": 5,
   "metadata": {},
   "outputs": [],
   "source": [
    "def build_SNGAN_discriminator(x,mask,batch_size,reuse=False,training=True):\n",
    "    with tf.variable_scope('discriminator',reuse=reuse):\n",
    "        cnum=64\n",
    "        x=dis_conv(x,cnum,name='conv1',training=training)\n",
    "        x=dis_conv(x,2*cnum,name='conv2',training=training)\n",
    "        x=dis_conv(x,4*cnum,name='conv3',training=training)\n",
    "        x=dis_conv(x,4*cnum,name='conv4',training=training)\n",
    "        x=dis_conv(x,4*cnum,name='conv5',training=training)\n",
    "        x=dis_conv(x,4*cnum,name='conv6',training=training)\n",
    "    return x\n"
   ]
  },
  {
   "cell_type": "code",
   "execution_count": null,
   "metadata": {},
   "outputs": [],
   "source": []
  }
 ],
 "metadata": {
  "kernelspec": {
   "display_name": "Python 3",
   "language": "python",
   "name": "python3"
  },
  "language_info": {
   "codemirror_mode": {
    "name": "ipython",
    "version": 3
   },
   "file_extension": ".py",
   "mimetype": "text/x-python",
   "name": "python",
   "nbconvert_exporter": "python",
   "pygments_lexer": "ipython3",
   "version": "3.6.4"
  }
 },
 "nbformat": 4,
 "nbformat_minor": 2
}
